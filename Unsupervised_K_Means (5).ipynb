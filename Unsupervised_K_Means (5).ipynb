{
 "cells": [
  {
   "cell_type": "code",
   "execution_count": 1,
   "id": "685ea33c-6025-4ff4-9ced-95fba7cb0d78",
   "metadata": {},
   "outputs": [
    {
     "name": "stdout",
     "output_type": "stream",
     "text": [
      "Collecting ucimlrepo\n",
      "  Downloading ucimlrepo-0.0.7-py3-none-any.whl.metadata (5.5 kB)\n",
      "Requirement already satisfied: pandas>=1.0.0 in /opt/anaconda3/lib/python3.12/site-packages (from ucimlrepo) (2.2.2)\n",
      "Requirement already satisfied: certifi>=2020.12.5 in /opt/anaconda3/lib/python3.12/site-packages (from ucimlrepo) (2025.1.31)\n",
      "Requirement already satisfied: numpy>=1.26.0 in /opt/anaconda3/lib/python3.12/site-packages (from pandas>=1.0.0->ucimlrepo) (1.26.4)\n",
      "Requirement already satisfied: python-dateutil>=2.8.2 in /opt/anaconda3/lib/python3.12/site-packages (from pandas>=1.0.0->ucimlrepo) (2.9.0.post0)\n",
      "Requirement already satisfied: pytz>=2020.1 in /opt/anaconda3/lib/python3.12/site-packages (from pandas>=1.0.0->ucimlrepo) (2024.1)\n",
      "Requirement already satisfied: tzdata>=2022.7 in /opt/anaconda3/lib/python3.12/site-packages (from pandas>=1.0.0->ucimlrepo) (2023.3)\n",
      "Requirement already satisfied: six>=1.5 in /opt/anaconda3/lib/python3.12/site-packages (from python-dateutil>=2.8.2->pandas>=1.0.0->ucimlrepo) (1.16.0)\n",
      "Downloading ucimlrepo-0.0.7-py3-none-any.whl (8.0 kB)\n",
      "Installing collected packages: ucimlrepo\n",
      "Successfully installed ucimlrepo-0.0.7\n",
      "Note: you may need to restart the kernel to use updated packages.\n"
     ]
    }
   ],
   "source": [
    "pip install ucimlrepo"
   ]
  },
  {
   "cell_type": "code",
   "execution_count": 13,
   "id": "4e9e7e5b-9d93-49eb-b150-b2e02d370b68",
   "metadata": {},
   "outputs": [],
   "source": [
    "import pandas as pd"
   ]
  },
  {
   "cell_type": "code",
   "execution_count": 33,
   "id": "739bd292-fcb7-42eb-a186-668dcf5b1fd7",
   "metadata": {},
   "outputs": [
    {
     "name": "stdout",
     "output_type": "stream",
     "text": [
      "{'uci_id': 352, 'name': 'Online Retail', 'repository_url': 'https://archive.ics.uci.edu/dataset/352/online+retail', 'data_url': 'https://archive.ics.uci.edu/static/public/352/data.csv', 'abstract': 'This is a transactional data set which contains all the transactions occurring between 01/12/2010 and 09/12/2011 for a UK-based and registered non-store online retail.', 'area': 'Business', 'tasks': ['Classification', 'Clustering'], 'characteristics': ['Multivariate', 'Sequential', 'Time-Series'], 'num_instances': 541909, 'num_features': 6, 'feature_types': ['Integer', 'Real'], 'demographics': [], 'target_col': None, 'index_col': ['InvoiceNo', 'StockCode'], 'has_missing_values': 'no', 'missing_values_symbol': None, 'year_of_dataset_creation': 2015, 'last_updated': 'Mon Oct 21 2024', 'dataset_doi': '10.24432/C5BW33', 'creators': ['Daqing Chen'], 'intro_paper': {'ID': 361, 'type': 'NATIVE', 'title': 'Data mining for the online retail industry: A case study of RFM model-based customer segmentation using data mining', 'authors': 'Daqing Chen, Sai Laing Sain, Kun Guo', 'venue': 'Journal of Database Marketing and Customer Strategy Management, Vol. 19, No. 3', 'year': 2012, 'journal': None, 'DOI': '10.1057/dbm.2012.17', 'URL': 'https://www.semanticscholar.org/paper/e43a5a90fa33d419df42e485099f8f08badf2149', 'sha': None, 'corpus': None, 'arxiv': None, 'mag': None, 'acl': None, 'pmid': None, 'pmcid': None}, 'additional_info': {'summary': 'This is a transactional data set which contains all the transactions occurring between 01/12/2010 and 09/12/2011 for a UK-based and registered non-store online retail.The company mainly sells unique all-occasion gifts. Many customers of the company are wholesalers.', 'purpose': None, 'funded_by': None, 'instances_represent': None, 'recommended_data_splits': None, 'sensitive_data': None, 'preprocessing_description': None, 'variable_info': \"InvoiceNo: Invoice number. Nominal, a 6-digit integral number uniquely assigned to each transaction. If this code starts with letter 'c', it indicates a cancellation. \\nStockCode: Product (item) code. Nominal, a 5-digit integral number uniquely assigned to each distinct product.\\nDescription: Product (item) name. Nominal.\\nQuantity: The quantities of each product (item) per transaction. Numeric.\\t\\nInvoiceDate: Invoice Date and time. Numeric, the day and time when each transaction was generated.\\nUnitPrice: Unit price. Numeric, Product price per unit in sterling.\\nCustomerID: Customer number. Nominal, a 5-digit integral number uniquely assigned to each customer.\\nCountry: Country name. Nominal, the name of the country where each customer resides. \", 'citation': None}}\n",
      "          name     role         type demographic  \\\n",
      "0    InvoiceNo       ID  Categorical        None   \n",
      "1    StockCode       ID  Categorical        None   \n",
      "2  Description  Feature  Categorical        None   \n",
      "3     Quantity  Feature      Integer        None   \n",
      "4  InvoiceDate  Feature         Date        None   \n",
      "5    UnitPrice  Feature   Continuous        None   \n",
      "6   CustomerID  Feature  Categorical        None   \n",
      "7      Country  Feature  Categorical        None   \n",
      "\n",
      "                                         description     units missing_values  \n",
      "0  a 6-digit integral number uniquely assigned to...      None             no  \n",
      "1  a 5-digit integral number uniquely assigned to...      None             no  \n",
      "2                                       product name      None             no  \n",
      "3  the quantities of each product (item) per tran...      None             no  \n",
      "4  the day and time when each transaction was gen...      None             no  \n",
      "5                             product price per unit  sterling             no  \n",
      "6  a 5-digit integral number uniquely assigned to...      None             no  \n",
      "7  the name of the country where each customer re...      None             no  \n"
     ]
    }
   ],
   "source": [
    "from ucimlrepo import fetch_ucirepo \n",
    "  \n",
    "# fetch dataset \n",
    "online_retail = fetch_ucirepo(id=352) \n",
    "  \n",
    "# data (as pandas dataframes) \n",
    "df = online_retail.data.original\n",
    "# metadata \n",
    "print(online_retail.metadata) \n",
    "  \n",
    "# variable information \n",
    "print(online_retail.variables)"
   ]
  },
  {
   "cell_type": "code",
   "execution_count": 37,
   "id": "be0a908e-b783-4ea9-9135-41d6e3b014bd",
   "metadata": {},
   "outputs": [
    {
     "name": "stdout",
     "output_type": "stream",
     "text": [
      "InvoiceNo           0\n",
      "StockCode           0\n",
      "Description      1454\n",
      "Quantity            0\n",
      "InvoiceDate         0\n",
      "UnitPrice           0\n",
      "CustomerID     135080\n",
      "Country             0\n",
      "dtype: int64\n"
     ]
    }
   ],
   "source": [
    "print(df.isna().sum())"
   ]
  },
  {
   "cell_type": "code",
   "execution_count": 39,
   "id": "a2eb70d0-af22-44c0-83da-c517e427172a",
   "metadata": {},
   "outputs": [
    {
     "data": {
      "text/plain": [
       "(541909, 8)"
      ]
     },
     "execution_count": 39,
     "metadata": {},
     "output_type": "execute_result"
    }
   ],
   "source": [
    "df.shape"
   ]
  },
  {
   "cell_type": "markdown",
   "id": "10ab9ccb-7a7a-450e-b07e-faf5fd02a330",
   "metadata": {},
   "source": [
    "The total dataset consists of 8 columns, 541909 rows. There appears to be a significant number of missing customerID values. Customer ID was not directly handled by Chen, Sain and Guo (2012), nor mentioned in their research project. Before determining how the missing handles will be resolved, or if the column will be included in the analysis, I want to explore the N/A's a bit further. "
   ]
  },
  {
   "cell_type": "code",
   "execution_count": 41,
   "id": "c9370d70-3f63-47d9-a9dd-4eb075bc52b7",
   "metadata": {},
   "outputs": [],
   "source": [
    "# creating a flag for N/A values\n",
    "df['CustomerID_missing'] = df['CustomerID'].isna()"
   ]
  },
  {
   "cell_type": "code",
   "execution_count": 45,
   "id": "ccffb7b0-211d-4e57-be83-e539ae1cbb6c",
   "metadata": {},
   "outputs": [
    {
     "name": "stdout",
     "output_type": "stream",
     "text": [
      "                     Quantity  UnitPrice\n",
      "CustomerID_missing                      \n",
      "False               12.061303   3.460471\n",
      "True                 1.995573   8.076577\n"
     ]
    }
   ],
   "source": [
    "print(df.groupby('CustomerID_missing')[['Quantity', 'UnitPrice']].mean())"
   ]
  },
  {
   "cell_type": "markdown",
   "id": "5c339990-b6df-4f85-a10d-13f845180e6b",
   "metadata": {},
   "source": [
    "Ok, so it seems that missing Customer ID's are associated with a lower number of purchases. Though, they correspond to a higher total value. That could be significant, so i'll view a few other factors. "
   ]
  },
  {
   "cell_type": "code",
   "execution_count": 49,
   "id": "3c17280c-6ef6-4811-b717-eecc9e878a55",
   "metadata": {},
   "outputs": [
    {
     "name": "stdout",
     "output_type": "stream",
     "text": [
      "Country\n",
      "United Kingdom    133600\n",
      "EIRE                 711\n",
      "Hong Kong            288\n",
      "Unspecified          202\n",
      "Switzerland          125\n",
      "France                66\n",
      "Israel                47\n",
      "Portugal              39\n",
      "Bahrain                2\n",
      "Name: count, dtype: int64\n",
      "StockCode\n",
      "DOT       694\n",
      "85099B    497\n",
      "21931     414\n",
      "22411     388\n",
      "20712     372\n",
      "         ... \n",
      "85195       1\n",
      "47574B      1\n",
      "16053       1\n",
      "16244B      1\n",
      "84859B      1\n",
      "Name: count, Length: 3810, dtype: int64\n"
     ]
    }
   ],
   "source": [
    "print(df[df['CustomerID_missing'] == True]['Country'].value_counts())\n",
    "print(df[df['CustomerID_missing'] == True]['StockCode'].value_counts())"
   ]
  },
  {
   "cell_type": "markdown",
   "id": "6964af6a-ca76-41a7-a3a6-89971500172d",
   "metadata": {},
   "source": [
    "It seems that the greater number of NA counts occur within the UK itself (origin of the data), with the stock code running high in a variety of items. "
   ]
  },
  {
   "cell_type": "code",
   "execution_count": 51,
   "id": "c3651526-10ec-465e-ad84-83fef86935dd",
   "metadata": {},
   "outputs": [],
   "source": [
    "df['InvoiceDate'] = pd.to_datetime(df['InvoiceDate'])\n",
    "\n",
    "\n",
    "df['InvoiceMonth'] = df['InvoiceDate'].dt.month\n",
    "df['InvoiceYear'] = df['InvoiceDate'].dt.year\n",
    "df['InvoiceDay'] = df['InvoiceDate'].dt.day"
   ]
  },
  {
   "cell_type": "code",
   "execution_count": 53,
   "id": "8bf97c8e-1c3b-4194-b8e5-9f8bb073e619",
   "metadata": {},
   "outputs": [
    {
     "name": "stdout",
     "output_type": "stream",
     "text": [
      "InvoiceYear  InvoiceMonth\n",
      "2010         12              0.367953\n",
      "2011         1               0.376561\n",
      "             2               0.265059\n",
      "             3               0.242898\n",
      "             4               0.224562\n",
      "             5               0.219336\n",
      "             6               0.245105\n",
      "             7               0.304064\n",
      "             8               0.216019\n",
      "             9               0.187234\n",
      "             10              0.165404\n",
      "             11              0.225626\n",
      "             12              0.308090\n",
      "Name: CustomerID_missing, dtype: float64\n"
     ]
    }
   ],
   "source": [
    "missing_by_month = df.groupby(['InvoiceYear', 'InvoiceMonth'])['CustomerID_missing'].mean()\n",
    "\n",
    "print(missing_by_month)"
   ]
  },
  {
   "cell_type": "code",
   "execution_count": 55,
   "id": "817050ab-1888-4b67-80c0-783147ad9e28",
   "metadata": {},
   "outputs": [],
   "source": [
    "numeric_cols = df.select_dtypes(include='number')\n",
    "\n",
    "correlation_matrix = numeric_cols.corr()"
   ]
  },
  {
   "cell_type": "code",
   "execution_count": 57,
   "id": "a3e84321-2307-459d-adab-e9a515110897",
   "metadata": {},
   "outputs": [
    {
     "data": {
      "image/png": "[encoded data removed]",
      "text/plain": [
       "<Figure size 1000x800 with 2 Axes>"
      ]
     },
     "metadata": {},
     "output_type": "display_data"
    }
   ],
   "source": [
    "import seaborn as sns\n",
    "import matplotlib.pyplot as plt\n",
    "\n",
    "# Plot\n",
    "plt.figure(figsize=(10,8))\n",
    "sns.heatmap(correlation_matrix, annot=True, cmap='coolwarm', fmt=\".2f\")\n",
    "plt.title('Correlation Matrix (Including Missing CustomerID)')\n",
    "plt.show()"
   ]
  },
  {
   "cell_type": "code",
   "execution_count": 59,
   "id": "7c1ba0a2-d24c-4f88-8a1b-607ced869a0b",
   "metadata": {},
   "outputs": [
    {
     "name": "stdout",
     "output_type": "stream",
     "text": [
      "Description\n",
      "DOTCOM POSTAGE                        693\n",
      "JUMBO BAG RED RETROSPOT               497\n",
      "JUMBO STORAGE BAG SUKI                414\n",
      "JUMBO SHOPPER VINTAGE RED PAISLEY     388\n",
      "JUMBO BAG WOODLAND ANIMALS            372\n",
      "JUMBO BAG PINK POLKADOT               348\n",
      "RECYCLING BAG RETROSPOT               341\n",
      "RED TOADSTOOL LED NIGHT LIGHT         328\n",
      "SUKI  SHOULDER BAG                    326\n",
      "GREEN REGENCY TEACUP AND SAUCER       324\n",
      "PARTY BUNTING                         311\n",
      "PACK OF 72 RETROSPOT CAKE CASES       305\n",
      "WOODLAND CHARLOTTE BAG                304\n",
      "RED RETROSPOT CHARLOTTE BAG           301\n",
      "CHARLOTTE BAG SUKI DESIGN             300\n",
      "WHITE HANGING HEART T-LIGHT HOLDER    299\n",
      "REGENCY CAKESTAND 3 TIER              295\n",
      "JAM MAKING SET PRINTED                294\n",
      "RECIPE BOX PANTRY YELLOW DESIGN       290\n",
      "JUMBO  BAG BAROQUE BLACK WHITE        287\n",
      "Name: count, dtype: int64\n"
     ]
    }
   ],
   "source": [
    "missing_desc_counts = df[df['CustomerID_missing'] == True]['Description'].value_counts().head(20)\n",
    "\n",
    "print(missing_desc_counts)"
   ]
  },
  {
   "cell_type": "code",
   "execution_count": 61,
   "id": "5df9f950-0f23-420f-9dab-6d4adf5a0552",
   "metadata": {},
   "outputs": [
    {
     "name": "stdout",
     "output_type": "stream",
     "text": [
      "Description\n",
      "WHITE HANGING HEART T-LIGHT HOLDER    2070\n",
      "REGENCY CAKESTAND 3 TIER              1905\n",
      "JUMBO BAG RED RETROSPOT               1662\n",
      "ASSORTED COLOUR BIRD ORNAMENT         1418\n",
      "PARTY BUNTING                         1416\n",
      "LUNCH BAG RED RETROSPOT               1358\n",
      "SET OF 3 CAKE TINS PANTRY DESIGN      1232\n",
      "POSTAGE                               1196\n",
      "LUNCH BAG  BLACK SKULL.               1126\n",
      "PACK OF 72 RETROSPOT CAKE CASES       1080\n",
      "SPOTTY BUNTING                        1029\n",
      "PAPER CHAIN KIT 50'S CHRISTMAS        1029\n",
      "LUNCH BAG SPACEBOY DESIGN             1021\n",
      "LUNCH BAG CARS BLUE                   1012\n",
      "NATURAL SLATE HEART CHALKBOARD         997\n",
      "HEART OF WICKER SMALL                  996\n",
      "LUNCH BAG PINK POLKADOT                977\n",
      "JAM MAKING SET WITH JARS               974\n",
      "REX CASH+CARRY JUMBO SHOPPER           955\n",
      "LUNCH BAG SUKI DESIGN                  950\n",
      "Name: count, dtype: int64\n"
     ]
    }
   ],
   "source": [
    "not_missing_desc_counts = df[df['CustomerID_missing'] == False]['Description'].value_counts().head(20)\n",
    "\n",
    "print(not_missing_desc_counts)"
   ]
  },
  {
   "cell_type": "code",
   "execution_count": 65,
   "id": "bfebb5e3-312f-4fd3-9ae4-5df73ca35722",
   "metadata": {},
   "outputs": [
    {
     "name": "stdout",
     "output_type": "stream",
     "text": [
      "Description\n",
      "AMAZON FEE                             7324.784706\n",
      "Manual                                  550.869533\n",
      "Bank Charges                            293.625600\n",
      "DOTCOM POSTAGE                          280.441126\n",
      "HALL CABINET WITH 3 DRAWERS             100.000000\n",
      "CINDERELLA CHANDELIER                    99.960000\n",
      "Dotcomgiftshop Gift Voucher £100.00      83.330000\n",
      "SET/4 WHITE RETRO STORAGE CUBES          59.006122\n",
      "SILVER ROCCOCO CHANDELIER                58.290000\n",
      "SAMPLES                                  50.404603\n",
      "RUSTIC WOODEN CABINET, GLASS DOORS       49.960000\n",
      "SWEETHEART CREAM STEEL TABLE RECT        46.620000\n",
      "CHALKBOARD KITCHEN ORGANISER             45.806000\n",
      "IVORY EMBROIDERED QUILT                  42.601667\n",
      "CARRIAGE                                 42.222222\n",
      "Dotcomgiftshop Gift Voucher £50.00       41.890000\n",
      "MEDINA STAMPED METAL STOOL               41.645000\n",
      "BOTANICAL GARDENS WALL CLOCK             41.640000\n",
      "ROCOCO WALL MIRROR WHITE                 41.630000\n",
      "SET 3 WICKER OVAL BASKETS W LIDS         39.130000\n",
      "Name: UnitPrice, dtype: float64\n"
     ]
    }
   ],
   "source": [
    "df_missing = df[df['CustomerID_missing'] == True]\n",
    "\n",
    "desc_price_missing = df_missing.groupby('Description')['UnitPrice'].mean().sort_values(ascending=False)\n",
    "\n",
    "print(desc_price_missing.head(20))  \n"
   ]
  },
  {
   "cell_type": "code",
   "execution_count": 67,
   "id": "1bfa7027-da04-40b9-926b-ec40c22d1d0b",
   "metadata": {},
   "outputs": [
    {
     "name": "stdout",
     "output_type": "stream",
     "text": [
      "4372\n"
     ]
    }
   ],
   "source": [
    "print(df['CustomerID'].nunique())\n"
   ]
  },
  {
   "cell_type": "markdown",
   "id": "6085bc91-3f37-4544-89ad-98e60b7c20a4",
   "metadata": {},
   "source": [
    "Tough! With limited information as to the cause of N/A values for this dataset, there are some leading elements, but there are some key things here. It looks like missing data could be skewed in value as they correspond to administrative fees. They also seem to occur more frequently during the holidays, though it occurs throughout the year regardless. It seems that theyre also associated with luxury items, novelty items, distinct from non missing values. \n",
    "\n",
    "This is where is gets tricky, as it's hard to tell if the N/As are due to something beyond what is available in the dataset (i.e. manager omits ID's of certain customers, clerical errors, mis-scans, other factors, or not. As i'm in the early stages of this analysis, I'll keep my decision making to what is available in te data. I do note that there are some unique qualities to charges and items freuqneted during NA values, so, I might be able to group them based on those factors alone"
   ]
  },
  {
   "cell_type": "code",
   "execution_count": 97,
   "id": "9a79c775-9e5d-4a66-9da6-5590e3afb46e",
   "metadata": {},
   "outputs": [],
   "source": [
    "def classify_special_transaction(description):\n",
    "    desc = str(description).lower()\n",
    "    \n",
    "    if 'fee' in desc or 'charge' in desc or 'postage' in desc or 'carriage' in desc or 'manual'in desc:\n",
    "        return 'Administrative Fee'\n",
    "\n",
    "    elif 'voucher' in desc:\n",
    "        return 'Gift Voucher'\n",
    "    \n",
    "    elif 'cabinet' in desc or 'chandelier' in desc or 'stool' in desc or 'quilt' in desc or 'mirror' in desc:\n",
    "        return 'Luxury Item'\n",
    "    \n",
    "    elif 'sample' in desc:\n",
    "        return 'Sample Item'\n",
    "    \n",
    "    else:\n",
    "        return 'Other Special'\n"
   ]
  },
  {
   "cell_type": "code",
   "execution_count": 99,
   "id": "289868ef-757d-4e37-b7bd-e4f4f1818df8",
   "metadata": {},
   "outputs": [],
   "source": [
    "df['Special_Customer_Flag'] = df['CustomerID'].isna()\n",
    "\n",
    "df['CustomerID_filled'] = df['CustomerID'].fillna('SPECIAL_CUSTOMER')"
   ]
  },
  {
   "cell_type": "code",
   "execution_count": 101,
   "id": "abe6de53-6c9c-42f8-8660-95bb395c969f",
   "metadata": {},
   "outputs": [],
   "source": [
    "df.loc[df['Special_Customer_Flag'] == True, 'SpecialTransactionType'] = df['Description'].apply(classify_special_transaction)"
   ]
  },
  {
   "cell_type": "code",
   "execution_count": 103,
   "id": "6c32c8ab-91a0-40e8-b3b5-6c94e7c4bfcc",
   "metadata": {},
   "outputs": [
    {
     "name": "stdout",
     "output_type": "stream",
     "text": [
      "SpecialTransactionType\n",
      "Other Special         131167\n",
      "Luxury Item             2090\n",
      "Administrative Fee      1724\n",
      "Sample Item               67\n",
      "Gift Voucher              32\n",
      "Name: count, dtype: int64\n"
     ]
    }
   ],
   "source": [
    "print(df[df['Special_Customer_Flag'] == True]['SpecialTransactionType'].value_counts())"
   ]
  },
  {
   "cell_type": "code",
   "execution_count": 105,
   "id": "ec0f863a-3026-46d3-92d2-74713db23573",
   "metadata": {},
   "outputs": [
    {
     "name": "stdout",
     "output_type": "stream",
     "text": [
      "                              mean  median        sum   count\n",
      "SpecialTransactionType                                       \n",
      "Administrative Fee      299.988324  16.740  517179.87    1724\n",
      "Sample Item              47.395373  16.000    3175.49      67\n",
      "Gift Voucher             23.254375  16.845     744.14      32\n",
      "Luxury Item               6.535608   4.130   13659.42    2090\n",
      "Other Special             4.240587   3.290  556225.09  131167\n"
     ]
    }
   ],
   "source": [
    "cost_summary = df[df['Special_Customer_Flag'] == True].groupby('SpecialTransactionType')['UnitPrice'].agg(['mean', 'median', 'sum', 'count']).sort_values(by='mean', ascending=False)\n",
    "\n",
    "print(cost_summary)"
   ]
  },
  {
   "cell_type": "markdown",
   "id": "a6e147e5-ed5d-4e55-b193-21bbcaec7e56",
   "metadata": {},
   "source": [
    "Ok, this is helpful. The N/A's seem to be mixed, with roughly 2000 rows accounting for half of the total price accumultaed from this group. It makes sense why there would be an N/A value to these, as they are not a direct product of consumer behavior, but likely automated fees. Things like vouchers and sample items also dont have customer ID's, and they could skew the analysis if included. Im going to move forward with removing these rows from the dataset, as they aren't indicative of consumer behavior (at least not in a proximal sense, signing up for things like amazon and fees could be a different analysis of behavior). It is unclear if Chen, Sain, and Guo (2012) had handled these values in their analysis, or if the dataset was updated after their analysis to include the customer ID column (it was never mentioned in their article). Though, for the sake of k-means they were handling numeric columns only, never inspecting or making use of the customer ID column. \n",
    "\n",
    "I will be approaching these values, which may result in different clusters from their article, but given the importance of the finding it seems useful to do so. "
   ]
  },
  {
   "cell_type": "code",
   "execution_count": 109,
   "id": "352f2e64-2098-459a-b786-516e987b10a6",
   "metadata": {},
   "outputs": [
    {
     "name": "stdout",
     "output_type": "stream",
     "text": [
      "  InvoiceNo StockCode                          Description  Quantity  \\\n",
      "0    536365    85123A   WHITE HANGING HEART T-LIGHT HOLDER         6   \n",
      "1    536365     71053                  WHITE METAL LANTERN         6   \n",
      "2    536365    84406B       CREAM CUPID HEARTS COAT HANGER         8   \n",
      "3    536365    84029G  KNITTED UNION FLAG HOT WATER BOTTLE         6   \n",
      "4    536365    84029E       RED WOOLLY HOTTIE WHITE HEART.         6   \n",
      "5    536365     22752         SET 7 BABUSHKA NESTING BOXES         2   \n",
      "6    536365     21730    GLASS STAR FROSTED T-LIGHT HOLDER         6   \n",
      "7    536366     22633               HAND WARMER UNION JACK         6   \n",
      "8    536366     22632            HAND WARMER RED POLKA DOT         6   \n",
      "9    536367     84879        ASSORTED COLOUR BIRD ORNAMENT        32   \n",
      "\n",
      "          InvoiceDate  UnitPrice  CustomerID         Country  \\\n",
      "0 2010-12-01 08:26:00       2.55     17850.0  United Kingdom   \n",
      "1 2010-12-01 08:26:00       3.39     17850.0  United Kingdom   \n",
      "2 2010-12-01 08:26:00       2.75     17850.0  United Kingdom   \n",
      "3 2010-12-01 08:26:00       3.39     17850.0  United Kingdom   \n",
      "4 2010-12-01 08:26:00       3.39     17850.0  United Kingdom   \n",
      "5 2010-12-01 08:26:00       7.65     17850.0  United Kingdom   \n",
      "6 2010-12-01 08:26:00       4.25     17850.0  United Kingdom   \n",
      "7 2010-12-01 08:28:00       1.85     17850.0  United Kingdom   \n",
      "8 2010-12-01 08:28:00       1.85     17850.0  United Kingdom   \n",
      "9 2010-12-01 08:34:00       1.69     13047.0  United Kingdom   \n",
      "\n",
      "   CustomerID_missing  InvoiceMonth  InvoiceYear  InvoiceDay  \\\n",
      "0               False            12         2010           1   \n",
      "1               False            12         2010           1   \n",
      "2               False            12         2010           1   \n",
      "3               False            12         2010           1   \n",
      "4               False            12         2010           1   \n",
      "5               False            12         2010           1   \n",
      "6               False            12         2010           1   \n",
      "7               False            12         2010           1   \n",
      "8               False            12         2010           1   \n",
      "9               False            12         2010           1   \n",
      "\n",
      "   Special_Customer_Flag CustomerID_filled SpecialTransactionType  \n",
      "0                  False           17850.0                    NaN  \n",
      "1                  False           17850.0                    NaN  \n",
      "2                  False           17850.0                    NaN  \n",
      "3                  False           17850.0                    NaN  \n",
      "4                  False           17850.0                    NaN  \n",
      "5                  False           17850.0                    NaN  \n",
      "6                  False           17850.0                    NaN  \n",
      "7                  False           17850.0                    NaN  \n",
      "8                  False           17850.0                    NaN  \n",
      "9                  False           13047.0                    NaN  \n"
     ]
    }
   ],
   "source": [
    "print(df.head(10))"
   ]
  },
  {
   "cell_type": "markdown",
   "id": "1955ba71-e97f-42f1-b278-8b4cca3ec7ae",
   "metadata": {},
   "source": [
    "Before going back, and concluding the investigation into N/A values and causes, it was noted that 1454 values in the description column were missing. So, I want to check, quickly, to see if those values also fall within the N/A customer rows. "
   ]
  },
  {
   "cell_type": "code",
   "execution_count": 111,
   "id": "4ac0bed4-44b3-443e-96f2-7963e5ca24cd",
   "metadata": {},
   "outputs": [
    {
     "name": "stdout",
     "output_type": "stream",
     "text": [
      "Rows with both Description and CustomerID missing: 1454\n"
     ]
    }
   ],
   "source": [
    "both_missing = df[df['Description'].isna() & df['CustomerID'].isna()]\n",
    "\n",
    "print(\"Rows with both Description and CustomerID missing:\", len(both_missing))\n"
   ]
  },
  {
   "cell_type": "markdown",
   "id": "225717ec-82d7-48ca-95a1-432ad239aa0b",
   "metadata": {},
   "source": [
    "Indeed they do! So, overall I am going to make some simple adjustments to the data to remove administrative charges and rows with missing descriptions from the analysis. They can be re-included, if needed, but it is unlikely that administrative charges are relevant to the analysis of direct shopping/ purchasing behavior. Further, as the description is missing for 1454 rows, it could very well mean those are also administrative charges (evaluating the price of these rows might help guide that conclusions if the value is relatively large, as is the case here with administrative charges, but for the sake of time we will move on for now. "
   ]
  },
  {
   "cell_type": "code",
   "execution_count": 113,
   "id": "ab21b43d-faa1-4c6a-b675-0a59dcb4cb90",
   "metadata": {},
   "outputs": [],
   "source": [
    "# Removing columns categorized with description N/A or special transation type 'administrative'\n",
    "df = df[~((df['Description'].isna()) | (df['SpecialTransactionType'] == 'Administrative_fee'))]\n"
   ]
  },
  {
   "cell_type": "code",
   "execution_count": 115,
   "id": "c104f86b-4223-4807-9cfc-7777e54a7cc8",
   "metadata": {},
   "outputs": [
    {
     "name": "stdout",
     "output_type": "stream",
     "text": [
      "InvoiceNo                      0\n",
      "StockCode                      0\n",
      "Description                    0\n",
      "Quantity                       0\n",
      "InvoiceDate                    0\n",
      "UnitPrice                      0\n",
      "CustomerID                133626\n",
      "Country                        0\n",
      "CustomerID_missing             0\n",
      "InvoiceMonth                   0\n",
      "InvoiceYear                    0\n",
      "InvoiceDay                     0\n",
      "Special_Customer_Flag          0\n",
      "CustomerID_filled              0\n",
      "SpecialTransactionType    406829\n",
      "dtype: int64\n"
     ]
    }
   ],
   "source": [
    "print(df.isna().sum())"
   ]
  },
  {
   "cell_type": "markdown",
   "id": "d110181c-6d35-4306-a61e-cf6cf01ce46e",
   "metadata": {},
   "source": [
    "Great! Now we have a good stopping pont for N/A cleaning, which could be re-visted for a deeper dive into this issue. Special Transaction Type misses a great deal of the products sold, and the amount missing corresponds to missing customer ID's. We have in this data set a flag for the missing customer ID's that can be used to filter/ examine data where ID's are missing, potentially looking back into those descriptions for further details. Finally, we have a Customer ID filled column, which fills in the N'A customer ID's with a \"Special Purchase\" value. These columns won't play a role in the clustering analysis, though for the sake of analysis shouldn't be forgotten. \n",
    "\n",
    "Now, referring back to the Chen, Sain, and Guo (2012), there were some intentional preprocessing these researchers used. This was done to prepare the data for analysis within the frequency and monetary model (RFM). This is a relatively classic data mining model, the approach of which segments customer behavior into profitable insights. There is one extention, possible with this data - which is the RFMT (T for time), or looking at the time since the first purchase, for deeper insights. \n",
    "\n",
    "Here, I will evaluate the data both within the context of the RFM and RFMT models, the compare their insights. First, lets preprocess the data according to the methods use by Chen, Sain, and Guo (2012). The first step will be to select the relevant columns. "
   ]
  },
  {
   "cell_type": "code",
   "execution_count": 149,
   "id": "b0cb8881-51c3-4ce9-88a0-4de14acdcf45",
   "metadata": {},
   "outputs": [],
   "source": [
    "df_filtered = df[['CustomerID', 'CustomerID_filled','InvoiceNo', 'StockCode', 'Quantity', 'UnitPrice', 'InvoiceDate', 'Country']]"
   ]
  },
  {
   "cell_type": "markdown",
   "id": "8532a642-1f07-4b7c-a32d-a75d6c0d4a58",
   "metadata": {},
   "source": [
    "The next step would be to create an aggregated variable 'Amount' to calculate UnitPrice by Quantity"
   ]
  },
  {
   "cell_type": "code",
   "execution_count": 152,
   "id": "773e9775-fd97-42e3-a050-c7f4d22e5d73",
   "metadata": {},
   "outputs": [],
   "source": [
    "df_filtered = df[['InvoiceNo', 'StockCode', 'Quantity', 'UnitPrice', 'InvoiceDate', 'Country']].copy()\n",
    "df_filtered['Amount'] = df_filtered['UnitPrice'] * df_filtered['Quantity']"
   ]
  },
  {
   "cell_type": "markdown",
   "id": "cc1a7e9b-2f24-4b6a-abf8-9d65330ea2dc",
   "metadata": {},
   "source": [
    "Next, seperating date and time"
   ]
  },
  {
   "cell_type": "code",
   "execution_count": 155,
   "id": "ce32a69e-4179-4edb-87d5-448002cab616",
   "metadata": {},
   "outputs": [],
   "source": [
    "df_filtered['InvoiceDate'] = pd.to_datetime(df_filtered['InvoiceDate'])\n",
    "df_filtered['Date'] = df_filtered['InvoiceDate'].dt.date\n",
    "df_filtered['Time']=df_filtered['InvoiceDate'].dt.time"
   ]
  },
  {
   "cell_type": "markdown",
   "id": "6323faf0-c8a7-4490-aa8f-ad3445686009",
   "metadata": {},
   "source": [
    "Filtering out rows where country not equal to UK"
   ]
  },
  {
   "cell_type": "code",
   "execution_count": 158,
   "id": "66b9c8b3-9d81-4996-82ea-2ef99c0f6239",
   "metadata": {},
   "outputs": [],
   "source": [
    "df_filtered = df_filtered[df_filtered['Country'] == 'United Kingdom']"
   ]
  },
  {
   "cell_type": "markdown",
   "id": "f3e35bae-c41e-46e2-b74b-bc2d6d4386ae",
   "metadata": {},
   "source": [
    "Now, a bit of a snag here in terms of full replication of the Chen, Sain, and Guo (2012) article, as the dataset available does not have customer postal codes. In order to move forward, I have a few options. 1) I can reintroduce the country column, and sort by country 2) I can sort by customer ID 3) I skip sorting the data and move forward with creating the aggregates: Recency, Frequency, Monetary. \n",
    "\n",
    "Given that, a bit more EDA needs to be done, and I can always experiment by introducing differently sorted datasets into the "
   ]
  },
  {
   "cell_type": "code",
   "execution_count": 163,
   "id": "aadcd103-c412-40a6-90f1-dc5437826f0e",
   "metadata": {},
   "outputs": [
    {
     "name": "stdout",
     "output_type": "stream",
     "text": [
      "CustomerID_filled\n",
      "SPECIAL_CUSTOMER    133626\n",
      "17841.0               7983\n",
      "14911.0               5903\n",
      "14096.0               5128\n",
      "12748.0               4642\n",
      "                     ...  \n",
      "13270.0                  1\n",
      "17763.0                  1\n",
      "17291.0                  1\n",
      "15668.0                  1\n",
      "15562.0                  1\n",
      "Name: count, Length: 4373, dtype: int64\n"
     ]
    }
   ],
   "source": [
    "print(df['CustomerID_filled'].value_counts())"
   ]
  }
 ],
 "metadata": {
  "kernelspec": {
   "display_name": "Python [conda env:base] *",
   "language": "python",
   "name": "conda-base-py"
  },
  "language_info": {
   "codemirror_mode": {
    "name": "ipython",
    "version": 3
   },
   "file_extension": ".py",
   "mimetype": "text/x-python",
   "name": "python",
   "nbconvert_exporter": "python",
   "pygments_lexer": "ipython3",
   "version": "3.12.7"
  }
 },
 "nbformat": 4,
 "nbformat_minor": 5
}
